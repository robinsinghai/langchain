{
 "cells": [
  {
   "cell_type": "markdown",
   "id": "b5f84e0c",
   "metadata": {},
   "source": [
    "### chromadb"
   ]
  },
  {
   "cell_type": "code",
   "execution_count": null,
   "id": "83ecba93",
   "metadata": {},
   "outputs": [],
   "source": [
    "import chromadb\n",
    "from langchain_core.vectorstores import Pinecone\n",
    "from langchain.embeddings import OpenAIEmbeddings\n",
    "from dotenv import load_dotenv\n",
    "load_dotenv()\n",
    "\n",
    "\n",
    "client = chromadb.Client()\n",
    "collection = client.create_collection(name='my_collection')\n",
    "\n",
    "collection.add(\n",
    "    documents=['What is RAG?', 'How does retriever work?'],\n",
    "    ids=['doc1', 'doc2']\n",
    ")\n",
    "\n",
    "results = collection.query(query_texts=['What is RAG?'], n_results=1)\n",
    "print(results)"
   ]
  },
  {
   "cell_type": "markdown",
   "id": "478c85ce",
   "metadata": {},
   "source": [
    "### FAISS"
   ]
  },
  {
   "cell_type": "code",
   "execution_count": null,
   "id": "2e3d06ad",
   "metadata": {},
   "outputs": [],
   "source": [
    "import faiss\n",
    "\n",
    "# Create a regular in-RAM index\n",
    "index = faiss.IndexFlatIP(768)  # 768-dimensional vectors\n",
    "\n",
    "# For large indices that don't fit in RAM, use memory mapping\n",
    "index = faiss.read_index(\"large_index.faiss\", faiss.IO_FLAG_MMAP)"
   ]
  },
  {
   "cell_type": "code",
   "execution_count": null,
   "id": "7f82c67d",
   "metadata": {},
   "outputs": [],
   "source": [
    "# Limited ram size\n",
    "# 1. Use compressed indices\n",
    "index = faiss.IndexIVFPQ(quantizer, d, nlist, M, 8)\n",
    "\n",
    "# 2. Sharding across multiple machines\n",
    "indices = [faiss.IndexFlatIP(d) for _ in range(shards)]\n",
    "\n",
    "# 3. Memory-mapped files for large indices\n",
    "index = faiss.read_index(\"large_index.faiss\", faiss.IO_FLAG_MMAP)"
   ]
  },
  {
   "cell_type": "code",
   "execution_count": null,
   "id": "8ea1c1e4",
   "metadata": {},
   "outputs": [],
   "source": [
    "# basic faiss\n",
    "import faiss\n",
    "import numpy as np\n",
    "\n",
    "# Generate sample data\n",
    "d = 768  # dimension\n",
    "n_data = 100000\n",
    "n_query = 1000\n",
    "\n",
    "# Random vectors (in RAM)\n",
    "data_vectors = np.random.random((n_data, d)).astype('float32')\n",
    "query_vectors = np.random.random((n_query, d)).astype('float32')\n",
    "\n",
    "# Create index in RAM\n",
    "index = faiss.IndexFlatIP(d)\n",
    "print(f\"Index size: {index.ntotal}\")  # 0 initially\n",
    "\n",
    "# Add vectors to RAM\n",
    "index.add(data_vectors)\n",
    "print(f\"Index size after add: {index.ntotal}\")\n",
    "\n",
    "# Search (all in RAM)\n",
    "k = 10  # number of nearest neighbors\n",
    "distances, indices = index.search(query_vectors, k)"
   ]
  },
  {
   "cell_type": "code",
   "execution_count": null,
   "id": "28e3a386",
   "metadata": {},
   "outputs": [],
   "source": [
    "# with quantization\n",
    "# More memory-efficient index\n",
    "nlist = 100  # number of clusters\n",
    "quantizer = faiss.IndexFlatIP(d)\n",
    "index = faiss.IndexIVFPQ(quantizer, d, nlist, 8, 8)  # 8 bytes per vector\n",
    "\n",
    "# Train and add\n",
    "index.train(data_vectors)\n",
    "index.add(data_vectors)\n",
    "\n",
    "# Search with compression\n",
    "distances, indices = index.search(query_vectors, k)"
   ]
  },
  {
   "cell_type": "code",
   "execution_count": null,
   "id": "6f1b3c90",
   "metadata": {},
   "outputs": [],
   "source": [
    "# memory mapping\n",
    "# Create large index and save\n",
    "faiss.write_index(index, \"large_index.faiss\")\n",
    "\n",
    "# Load with memory mapping\n",
    "mmap_index = faiss.read_index(\"large_index.faiss\", faiss.IO_FLAG_MMAP)"
   ]
  },
  {
   "cell_type": "code",
   "execution_count": null,
   "id": "6bb575ce",
   "metadata": {},
   "outputs": [],
   "source": [
    "# monitor memory useages\n",
    "import psutil\n",
    "import faiss\n",
    "\n",
    "def check_memory_usage(index):\n",
    "    process = psutil.Process()\n",
    "    memory_mb = process.memory_info().rss / 1024 / 1024\n",
    "    print(f\"Process memory: {memory_mb:.2f} MB\")\n",
    "    print(f\"Index vectors: {index.ntotal}\")\n",
    "    \n",
    "    # Estimate index memory\n",
    "    if hasattr(index, 'd'):\n",
    "        est_memory = index.ntotal * index.d * 4 / 1024 / 1024  # MB\n",
    "        print(f\"Estimated index memory: {est_memory:.2f} MB\")"
   ]
  },
  {
   "cell_type": "code",
   "execution_count": null,
   "id": "16b5475d",
   "metadata": {},
   "outputs": [],
   "source": [
    "from langchain.vectorstores import FAISS\n",
    "from langchain.embeddings import OpenAIEmbeddings\n",
    "from dotenv import load_dotenv\n",
    "load_dotenv()\n",
    "\n",
    "documents = [\"RAG is a hybrid AI architecture.\", \"FAISS is great for similarity search.\"]\n",
    "\n",
    "embeddings = OpenAIEmbeddings()\n",
    "vector_store = FAISS.from_texts(documents, embedding=embeddings)\n",
    "retriever = vector_store.as_retriever()\n",
    "\n",
    "\n",
    "query = \"what is rag?\"\n",
    "retrived_docs = retriever.get_relevant_documents(query)\n",
    "print(retrived_docs)"
   ]
  },
  {
   "cell_type": "markdown",
   "id": "3eaa0d65",
   "metadata": {},
   "source": [
    "### Pinecone"
   ]
  },
  {
   "cell_type": "code",
   "execution_count": null,
   "id": "4d4e5acc",
   "metadata": {},
   "outputs": [],
   "source": [
    "import pinecone\n",
    "from langchain_core.vectorstores import Pinecone\n",
    "from langchain.embeddings import OpenAIEmbeddings\n",
    "from dotenv import load_dotenv\n",
    "load_dotenv()\n",
    "\n",
    "\n",
    "pinecone.init(api_key='api_key', environment='us-west1-gcp')\n",
    "pinecone.create_index(\"rafg-index\", dimension=1536, metric=\"cosine\")\n",
    "\n",
    "embeddings = OpenAIEmbeddings()\n",
    "vector_store = Pinecone.from_existing_index(index_name='rag-index', embedding=embeddings)\n",
    "retriever = vector_store.as_retriever()"
   ]
  }
 ],
 "metadata": {
  "kernelspec": {
   "display_name": ".venv",
   "language": "python",
   "name": "python3"
  },
  "language_info": {
   "name": "python",
   "version": "3.12.3"
  }
 },
 "nbformat": 4,
 "nbformat_minor": 5
}
