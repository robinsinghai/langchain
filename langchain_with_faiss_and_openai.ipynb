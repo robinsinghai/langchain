{
 "cells": [
  {
   "cell_type": "code",
   "execution_count": null,
   "id": "438d93c8",
   "metadata": {},
   "outputs": [],
   "source": [
    "from langchain.document_loaders import TextLoader\n",
    "from langchain.vectorstores import FAISS\n",
    "from langchain.embeddings import OpenAIEmbeddings\n",
    "from langchain.chat_models import ChatOpenAI\n",
    "from langchain_classic.chains import RetrievalQA"
   ]
  },
  {
   "cell_type": "code",
   "execution_count": 2,
   "id": "845092e5",
   "metadata": {},
   "outputs": [],
   "source": [
    "# sample product descriptions\n",
    "product_catalog = [\n",
    "    {\"text\": \"The EcoFlex Blender is a high-powered kitchen appliance with 1200W motor and multiple speed settings.\"},\n",
    "    {\"text\": \"The AquaFlow Bottle is a BPA-free reusable water bottle designed for outdoor activities.\"},\n",
    "    {\"text\": \"The CozyNest Pillow offers ergonomic support with memory foam for better sleep quality.\"}]"
   ]
  },
  {
   "cell_type": "code",
   "execution_count": 6,
   "id": "ea6341af",
   "metadata": {},
   "outputs": [],
   "source": [
    "embeddings = OpenAIEmbeddings()\n",
    "vector_store = FAISS.from_texts([item[\"text\"] for item in product_catalog], embedding=embeddings)"
   ]
  },
  {
   "cell_type": "code",
   "execution_count": 7,
   "id": "f4d3b107",
   "metadata": {},
   "outputs": [],
   "source": [
    "retriever = vector_store.as_retriever()"
   ]
  },
  {
   "cell_type": "code",
   "execution_count": 9,
   "id": "c461a23e",
   "metadata": {},
   "outputs": [
    {
     "name": "stderr",
     "output_type": "stream",
     "text": [
      "C:\\Users\\wwwro\\AppData\\Local\\Temp\\ipykernel_18400\\2574739801.py:1: LangChainDeprecationWarning: The class `ChatOpenAI` was deprecated in LangChain 0.0.10 and will be removed in 1.0. An updated version of the class exists in the :class:`~langchain-openai package and should be used instead. To use it run `pip install -U :class:`~langchain-openai` and import as `from :class:`~langchain_openai import ChatOpenAI``.\n",
      "  generator = ChatOpenAI(temperature=0.7)\n"
     ]
    }
   ],
   "source": [
    "generator = ChatOpenAI(temperature=0.7)"
   ]
  },
  {
   "cell_type": "code",
   "execution_count": 11,
   "id": "3bf1fbf2",
   "metadata": {},
   "outputs": [],
   "source": [
    "rag_pipeline = RetrievalQA.from_chain_type(llm=generator,\n",
    "                                           retriever=retriever,\n",
    "                                           chain_type='stuff')"
   ]
  },
  {
   "cell_type": "code",
   "execution_count": 12,
   "id": "6c5e0087",
   "metadata": {},
   "outputs": [
    {
     "name": "stderr",
     "output_type": "stream",
     "text": [
      "C:\\Users\\wwwro\\AppData\\Local\\Temp\\ipykernel_18400\\863246288.py:2: LangChainDeprecationWarning: The method `Chain.run` was deprecated in langchain 0.1.0 and will be removed in 1.0. Use :meth:`~invoke` instead.\n",
      "  response = rag_pipeline.run(query)\n"
     ]
    },
    {
     "name": "stdout",
     "output_type": "stream",
     "text": [
      "AI Response: The AquaFlow Bottle is suitable for outdoor activities.\n"
     ]
    }
   ],
   "source": [
    "query = \"what product suitable for outdoor activities?\"\n",
    "response = rag_pipeline.run(query)\n",
    "print(\"AI Response:\", response)"
   ]
  },
  {
   "cell_type": "code",
   "execution_count": null,
   "id": "cef52f4a",
   "metadata": {},
   "outputs": [],
   "source": []
  }
 ],
 "metadata": {
  "kernelspec": {
   "display_name": ".venv",
   "language": "python",
   "name": "python3"
  },
  "language_info": {
   "codemirror_mode": {
    "name": "ipython",
    "version": 3
   },
   "file_extension": ".py",
   "mimetype": "text/x-python",
   "name": "python",
   "nbconvert_exporter": "python",
   "pygments_lexer": "ipython3",
   "version": "3.11.9"
  }
 },
 "nbformat": 4,
 "nbformat_minor": 5
}
