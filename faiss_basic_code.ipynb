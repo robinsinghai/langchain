{
 "cells": [
  {
   "cell_type": "code",
   "execution_count": null,
   "id": "7bcc0697",
   "metadata": {},
   "outputs": [],
   "source": [
    "import faiss\n",
    "\n",
    "# Create a regular in-RAM index\n",
    "index = faiss.IndexFlatIP(768)  # 768-dimensional vectors\n",
    "\n",
    "# For large indices that don't fit in RAM, use memory mapping\n",
    "index = faiss.read_index(\"large_index.faiss\", faiss.IO_FLAG_MMAP)"
   ]
  },
  {
   "cell_type": "code",
   "execution_count": null,
   "id": "86f8e847",
   "metadata": {},
   "outputs": [],
   "source": [
    "# Limited ram size\n",
    "# 1. Use compressed indices\n",
    "index = faiss.IndexIVFPQ(quantizer, d, nlist, M, 8)\n",
    "\n",
    "# 2. Sharding across multiple machines\n",
    "indices = [faiss.IndexFlatIP(d) for _ in range(shards)]\n",
    "\n",
    "# 3. Memory-mapped files for large indices\n",
    "index = faiss.read_index(\"large_index.faiss\", faiss.IO_FLAG_MMAP)"
   ]
  },
  {
   "cell_type": "code",
   "execution_count": null,
   "id": "1c5d938e",
   "metadata": {},
   "outputs": [],
   "source": [
    "# basic faiss\n",
    "import faiss\n",
    "import numpy as np\n",
    "\n",
    "# Generate sample data\n",
    "d = 768  # dimension\n",
    "n_data = 100000\n",
    "n_query = 1000\n",
    "\n",
    "# Random vectors (in RAM)\n",
    "data_vectors = np.random.random((n_data, d)).astype('float32')\n",
    "query_vectors = np.random.random((n_query, d)).astype('float32')\n",
    "\n",
    "# Create index in RAM\n",
    "index = faiss.IndexFlatIP(d)\n",
    "print(f\"Index size: {index.ntotal}\")  # 0 initially\n",
    "\n",
    "# Add vectors to RAM\n",
    "index.add(data_vectors)\n",
    "print(f\"Index size after add: {index.ntotal}\")\n",
    "\n",
    "# Search (all in RAM)\n",
    "k = 10  # number of nearest neighbors\n",
    "distances, indices = index.search(query_vectors, k)"
   ]
  },
  {
   "cell_type": "code",
   "execution_count": null,
   "id": "e64f449a",
   "metadata": {},
   "outputs": [],
   "source": [
    "# with quantization\n",
    "# More memory-efficient index\n",
    "nlist = 100  # number of clusters\n",
    "quantizer = faiss.IndexFlatIP(d)\n",
    "index = faiss.IndexIVFPQ(quantizer, d, nlist, 8, 8)  # 8 bytes per vector\n",
    "\n",
    "# Train and add\n",
    "index.train(data_vectors)\n",
    "index.add(data_vectors)\n",
    "\n",
    "# Search with compression\n",
    "distances, indices = index.search(query_vectors, k)"
   ]
  },
  {
   "cell_type": "code",
   "execution_count": null,
   "id": "179ef6a6",
   "metadata": {},
   "outputs": [],
   "source": [
    "# memory mapping\n",
    "# Create large index and save\n",
    "faiss.write_index(index, \"large_index.faiss\")\n",
    "\n",
    "# Load with memory mapping\n",
    "mmap_index = faiss.read_index(\"large_index.faiss\", faiss.IO_FLAG_MMAP)"
   ]
  },
  {
   "cell_type": "code",
   "execution_count": null,
   "id": "ec8e7ac8",
   "metadata": {},
   "outputs": [],
   "source": [
    "# monitor memory useages\n",
    "import psutil\n",
    "import faiss\n",
    "\n",
    "def check_memory_usage(index):\n",
    "    process = psutil.Process()\n",
    "    memory_mb = process.memory_info().rss / 1024 / 1024\n",
    "    print(f\"Process memory: {memory_mb:.2f} MB\")\n",
    "    print(f\"Index vectors: {index.ntotal}\")\n",
    "    \n",
    "    # Estimate index memory\n",
    "    if hasattr(index, 'd'):\n",
    "        est_memory = index.ntotal * index.d * 4 / 1024 / 1024  # MB\n",
    "        print(f\"Estimated index memory: {est_memory:.2f} MB\")"
   ]
  },
  {
   "cell_type": "code",
   "execution_count": null,
   "id": "4d6d00e6",
   "metadata": {},
   "outputs": [],
   "source": []
  },
  {
   "cell_type": "code",
   "execution_count": null,
   "id": "a5c3733a",
   "metadata": {},
   "outputs": [],
   "source": []
  },
  {
   "cell_type": "code",
   "execution_count": null,
   "id": "23134336",
   "metadata": {},
   "outputs": [],
   "source": []
  },
  {
   "cell_type": "code",
   "execution_count": null,
   "id": "e065e9f3",
   "metadata": {},
   "outputs": [],
   "source": []
  },
  {
   "cell_type": "code",
   "execution_count": null,
   "id": "ca301878",
   "metadata": {},
   "outputs": [],
   "source": []
  },
  {
   "cell_type": "code",
   "execution_count": null,
   "id": "40aaa0e0",
   "metadata": {},
   "outputs": [],
   "source": []
  }
 ],
 "metadata": {
  "kernelspec": {
   "display_name": ".venv",
   "language": "python",
   "name": "python3"
  },
  "language_info": {
   "name": "python",
   "version": "3.11.9"
  }
 },
 "nbformat": 4,
 "nbformat_minor": 5
}
