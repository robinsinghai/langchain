{
 "cells": [
  {
   "cell_type": "code",
   "execution_count": null,
   "id": "94e2af2a",
   "metadata": {},
   "outputs": [],
   "source": [
    "from dotenv import load_dotenv\n",
    "load_dotenv()"
   ]
  },
  {
   "cell_type": "code",
   "execution_count": 1,
   "id": "500b1d5e",
   "metadata": {},
   "outputs": [
    {
     "name": "stdout",
     "output_type": "stream",
     "text": [
      "Okay, let's break down quantum computing in a way that's hopefully understandable without getting bogged down in complex math. Here's the core concept, simplified:\n",
      "\n",
      "**1. Classical Computers: Like Light Switches**\n",
      "\n",
      "Think of a regular computer like a light switch. It can be either on (1) or off (0).  It stores information as bits – these bits represent either a 0 or a 1.  Everything a computer does – from playing games to running spreadsheets – is ultimately based on manipulating these bits.\n",
      "\n",
      "**2. Quantum Computers: Like a Dimmer Switch & Wave**\n",
      "\n",
      "Quantum computers use *qubits*.  Instead of just being on or off, a qubit can be *both* on and off *at the same time*. This is thanks to a mind-bending concept called **superposition**.\n",
      "\n",
      "* **Superposition:** Imagine a coin spinning in the air. It's not heads or tails until it lands. A qubit is like that spinning coin – it exists in a combination of 0 and 1 until we *measure* it.\n",
      "\n",
      "* **Entanglement:** This is another weird but crucial part.  When two qubits are entangled, they become linked.  If you change one, the other *instantly* changes too, no matter how far apart they are. It's like having two coins that always land on opposite sides.\n",
      "\n",
      "**3. How Does it Work?**\n",
      "\n",
      "* **Quantum Mechanics:** Quantum computers leverage the principles of quantum mechanics – the physics of the very small – to perform calculations.\n",
      "* **Algorithms:** Quantum computers don't just brute-force everything. They use special algorithms (sets of instructions) designed to take advantage of superposition and entanglement.\n",
      "* **Processing:** Because of these properties, quantum computers can potentially solve certain problems much, *much* faster than classical computers.\n",
      "\n",
      "**4. What Can Quantum Computers Do?**\n",
      "\n",
      "* **Drug Discovery:** Simulating molecules to design new drugs and materials.\n",
      "* **Materials Science:**  Creating new materials with specific properties.\n",
      "* **Cryptography:**  Breaking existing encryption (and developing new, quantum-resistant encryption).\n",
      "* **Optimization:** Solving complex problems like logistics, finance, and AI training.\n",
      "* **Artificial Intelligence:** Accelerating machine learning algorithms.\n",
      "\n",
      "**5. It's Still Early Days**\n",
      "\n",
      "Quantum computing is *not* going to replace your laptop anytime soon. It's a fundamentally different type of computing that's best suited for very specific, complex problems.  It's like the early days of computers – they were incredibly limited, but they opened up a whole new world of possibilities.\n",
      "\n",
      "**Here's a table to summarize:**\n",
      "\n",
      "| Feature          | Classical Computer | Quantum Computer |\n",
      "|--------------------|--------------------|--------------------|\n",
      "| **Basic Unit**     | Bit (0 or 1)       | Qubit (0, 1, or both) |\n",
      "| **Information Storage** | Binary | Superposition & Entanglement |\n",
      "| **How it Works**   | Logic gates        | Quantum mechanics principles |\n",
      "| **Strengths**       | General-purpose     | Specific problems (optimization, simulation) |\n",
      "\n",
      "**Resources for Further Learning:**\n",
      "\n",
      "* **IBM Quantum:** [https://www.ibm.com/quantum](https://www.ibm.com/quantum)\n",
      "* **Microsoft Quantum:** [https://www.microsoft.com/en-us/quantum](https://www.microsoft.com/en-us/quantum)\n",
      "* **YouTube - Quantum Computing Explained:** [https://m.youtube.com/watch?v=QvQ-JvQ-9-Q](https://m.youtube.com/watch?v=QvQ-JvQ-9-Q)\n",
      "\n",
      "---\n",
      "\n",
      "**Do you want me to:**\n",
      "\n",
      "*   Explain a specific aspect in more detail (e.g., superposition)?\n",
      "*   Give you an example of a problem quantum computers are good at?\n",
      "*   Discuss the challenges of building quantum computers?\n"
     ]
    }
   ],
   "source": [
    "from langchain_ollama import ChatOllama\n",
    "from langchain_core.prompts import PromptTemplate\n",
    "from langchain_core.output_parsers import StrOutputParser\n",
    "\n",
    "# Initialize Ollama with your chosen model\n",
    "local_llm = ChatOllama(\n",
    "model=\"gemma3:1b\",\n",
    "temperature=0,\n",
    ")\n",
    "# Create an LCEL chain using the local model\n",
    "prompt = PromptTemplate.from_template(\"Explain {concept} in simple terms\")\n",
    "local_chain = prompt | local_llm | StrOutputParser()\n",
    "# Use the chain with your local model\n",
    "result = local_chain.invoke({\"concept\": \"quantum computing\"})\n",
    "print(result)"
   ]
  },
  {
   "cell_type": "markdown",
   "id": "3fa86b06",
   "metadata": {},
   "source": [
    "### memory management"
   ]
  },
  {
   "cell_type": "code",
   "execution_count": null,
   "id": "effbec6a",
   "metadata": {},
   "outputs": [],
   "source": [
    "from langchain_ollama import ChatOllama\n",
    "llm = ChatOllama(\n",
    "model=\"gemma3:1b\", # 4-bit quantized model (smaller memoryfootprint)\n",
    "num_gpu=1, # Number of GPUs to utilize (adjust based on hardware) 0 to use CPU only\n",
    "num_thread=4 # Number of CPU threads for parallel processing\n",
    ")"
   ]
  },
  {
   "cell_type": "code",
   "execution_count": null,
   "id": "38cb4f1f",
   "metadata": {},
   "outputs": [],
   "source": []
  }
 ],
 "metadata": {
  "kernelspec": {
   "display_name": ".venv",
   "language": "python",
   "name": "python3"
  },
  "language_info": {
   "codemirror_mode": {
    "name": "ipython",
    "version": 3
   },
   "file_extension": ".py",
   "mimetype": "text/x-python",
   "name": "python",
   "nbconvert_exporter": "python",
   "pygments_lexer": "ipython3",
   "version": "3.12.3"
  }
 },
 "nbformat": 4,
 "nbformat_minor": 5
}
