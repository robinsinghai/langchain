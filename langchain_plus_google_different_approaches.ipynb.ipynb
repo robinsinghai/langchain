{
 "cells": [
  {
   "cell_type": "code",
   "execution_count": null,
   "id": "d158618d",
   "metadata": {},
   "outputs": [],
   "source": [
    "import base64\n",
    "from langchain_google_genai.chat_models import ChatGoogleGenerativeAI\n",
    "from langchain_core.messages.human import HumanMessage\n",
    "\n",
    "with open(\"stable-diffusion.png\", 'rb') as image_file:\n",
    "    image_bytes = image_file.read()\n",
    "    base64_bytes = base64.b64encode(image_bytes).decode(\"utf-8\")\n",
    "prompt = [\n",
    "    {\"type\": \"text\", \"text\": \"Describe the image: \"},\n",
    "    {\"type\": \"image_url\", \"image_url\": {\"url\": f\"data:image/jpeg;base64,{base64_bytes}\"}},\n",
    "]\n",
    "llm = ChatGoogleGenerativeAI(\n",
    "    model=\"gemini-1.5-pro\",\n",
    "    temperature=0,\n",
    ")\n",
    "response = llm.invoke([HumanMessage(content=prompt)])\n",
    "print(response.content)"
   ]
  },
  {
   "cell_type": "code",
   "execution_count": null,
   "id": "4f510a7f",
   "metadata": {},
   "outputs": [],
   "source": [
    "prompt = [\n",
    "{\"type\": \"text\", \"text\": \"Describe the video in a few sentences.\"},\n",
    "{\"type\": \"media\", \"file_uri\": video_uri, \"mime_type\": \"video/mp4\"},\n",
    "]\n",
    "response = llm.invoke([HumanMessage(content=prompt)])\n",
    "print(response.content)"
   ]
  },
  {
   "cell_type": "code",
   "execution_count": null,
   "id": "712c48e8",
   "metadata": {},
   "outputs": [],
   "source": [
    "offset_hint = {\n",
    "    \"start_offset\": {\"seconds\": 10},\n",
    "    \"end_offset\": {\"seconds\": 20},\n",
    "}\n",
    "prompt = [\n",
    "    {\"type\": \"text\", \"text\": \"Describe the video in a few sentences.\"},\n",
    "    {\"type\": \"media\", \"file_uri\": video_uri, \"mime_type\": \"video/mp4\",\"video_metadata\": offset_hint},\n",
    "]\n",
    "response = llm.invoke([HumanMessage(content=prompt)])\n",
    "print(response.content)"
   ]
  }
 ],
 "metadata": {
  "kernelspec": {
   "display_name": ".venv",
   "language": "python",
   "name": "python3"
  },
  "language_info": {
   "name": "python",
   "version": "3.12.3"
  }
 },
 "nbformat": 4,
 "nbformat_minor": 5
}
