{
 "cells": [
  {
   "cell_type": "code",
   "execution_count": null,
   "id": "c057c2fc",
   "metadata": {},
   "outputs": [],
   "source": [
    "from dotenv import load_dotenv\n",
    "load_dotenv()"
   ]
  },
  {
   "cell_type": "markdown",
   "id": "6560594f",
   "metadata": {},
   "source": [
    "### Reasoning Model"
   ]
  },
  {
   "cell_type": "code",
   "execution_count": null,
   "id": "59da4cac",
   "metadata": {},
   "outputs": [],
   "source": [
    "\n",
    "from langchain_anthropic import ChatAnthropic\n",
    "from langchain_core.prompts import ChatPromptTemplate\n",
    "from langchain_core.messages import HumanMessage\n",
    "\n",
    "template = ChatPromptTemplate.from_messages([\n",
    "    (\"system\", \"You are an experienced programmer and analyst\"),\n",
    "    (\"user\", \"{problem}\")\n",
    "])\n",
    "\n",
    "chat = ChatAnthropic(\n",
    "    model_name=\"claude-3-7-sonnet-20240326\",\n",
    "    max_tokens=64_000,\n",
    "    thinking={\"type\":\"enabled\", \"budget_tokens\":15000}\n",
    ")\n",
    "\n",
    "chain = template | chat\n",
    "\n",
    "problem = \"\"\"Design an algorith to to k nearest neighbour.\"\"\"\n",
    "\n",
    "response = chat.invoke([HumanMessage(content=problem)])\n",
    "\n",
    "print(response.content)\n",
    "\n",
    "\"\"\"Out of the 64,000-token maximum response length, up to 15,000 tokens can be used for\n",
    "Claude’s thinking process.\n",
    "\n",
    "The remaining ~49,000 tokens are available for the final response.\n",
    "\n",
    "Claude doesn’t always use the entire thinking budget—it uses what it needs for the specific\n",
    "task. If Claude runs out of thinking tokens, it will transition to its final answer.\"\"\""
   ]
  },
  {
   "cell_type": "code",
   "execution_count": null,
   "id": "957d4e7e",
   "metadata": {},
   "outputs": [],
   "source": [
    "from langchain_anthropic import ChatAnthropic\n",
    "\n",
    "\n",
    "model = ChatAnthropic(model_name=\"claude-3-5-sonnet-20241022\", timeout=None, stop=None)\n",
    "result = model.invoke(\"Write a sonnet about the sea.\")\n",
    "print(result.content)"
   ]
  },
  {
   "cell_type": "code",
   "execution_count": null,
   "id": "595dc922",
   "metadata": {},
   "outputs": [],
   "source": []
  },
  {
   "cell_type": "code",
   "execution_count": null,
   "id": "1870a2a3",
   "metadata": {},
   "outputs": [],
   "source": []
  },
  {
   "cell_type": "code",
   "execution_count": null,
   "id": "f6b62f49",
   "metadata": {},
   "outputs": [],
   "source": []
  }
 ],
 "metadata": {
  "kernelspec": {
   "display_name": ".venv",
   "language": "python",
   "name": "python3"
  },
  "language_info": {
   "name": "python",
   "version": "3.12.3"
  }
 },
 "nbformat": 4,
 "nbformat_minor": 5
}
