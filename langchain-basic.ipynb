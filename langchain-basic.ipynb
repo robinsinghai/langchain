{
 "cells": [
  {
   "cell_type": "code",
   "execution_count": 2,
   "id": "0e768dc5",
   "metadata": {},
   "outputs": [
    {
     "data": {
      "text/plain": [
       "True"
      ]
     },
     "execution_count": 2,
     "metadata": {},
     "output_type": "execute_result"
    }
   ],
   "source": [
    "from dotenv import load_dotenv\n",
    "load_dotenv()"
   ]
  },
  {
   "cell_type": "code",
   "execution_count": 4,
   "id": "e27293b8",
   "metadata": {},
   "outputs": [],
   "source": [
    "from langchain_openai import OpenAI, ChatOpenAI\n",
    "from langchain.prompts.chat import ChatPromptTemplate\n",
    "from langchain.schema import HumanMessage, SystemMessage, AIMessage, BaseOutputParser\n",
    "from langchain_huggingface import ChatHuggingFace, HuggingFaceEndpoint\n",
    "from langchain_community.llms import HuggingFaceHub\n",
    "from langchain.prompts import PromptTemplate\n",
    "from langchain.chains import LLMChain, SimpleSequentialChain, SequentialChain"
   ]
  },
  {
   "cell_type": "markdown",
   "id": "c251407a",
   "metadata": {},
   "source": [
    "OpenAI"
   ]
  },
  {
   "cell_type": "code",
   "execution_count": 5,
   "id": "3a18c064",
   "metadata": {},
   "outputs": [
    {
     "data": {
      "text/plain": [
       "'\\n\"Vibrant Sox Co.\"'"
      ]
     },
     "execution_count": 5,
     "metadata": {},
     "output_type": "execute_result"
    }
   ],
   "source": [
    "llmo = OpenAI(model='gpt-3.5-turbo-instruct' ,temperature=0.7)\n",
    "llmo.invoke(\"What would be a good company name for a company that makes colorful socks?\")"
   ]
  },
  {
   "cell_type": "markdown",
   "id": "98ea4ee5",
   "metadata": {},
   "source": [
    "Prompt Template and LLMChain"
   ]
  },
  {
   "cell_type": "code",
   "execution_count": 7,
   "id": "6448c937",
   "metadata": {},
   "outputs": [
    {
     "data": {
      "text/plain": [
       "'Tell me the capital of France'"
      ]
     },
     "execution_count": 7,
     "metadata": {},
     "output_type": "execute_result"
    }
   ],
   "source": [
    "prompt_template = PromptTemplate(input_variables=[\"country\"], \n",
    "                                 template=\"Tell me the capital of {country}\")\n",
    "prompt_template.format(country=\"France\")"
   ]
  },
  {
   "cell_type": "code",
   "execution_count": 8,
   "id": "a144950f",
   "metadata": {},
   "outputs": [
    {
     "name": "stderr",
     "output_type": "stream",
     "text": [
      "C:\\Users\\wwwro\\AppData\\Local\\Temp\\ipykernel_10268\\2366404548.py:1: LangChainDeprecationWarning: The class `LLMChain` was deprecated in LangChain 0.1.17 and will be removed in 1.0. Use :meth:`~RunnableSequence, e.g., `prompt | llm`` instead.\n",
      "  chain = LLMChain(llm=llmo, prompt=prompt_template)\n",
      "C:\\Users\\wwwro\\AppData\\Local\\Temp\\ipykernel_10268\\2366404548.py:2: LangChainDeprecationWarning: The method `Chain.run` was deprecated in langchain 0.1.0 and will be removed in 1.0. Use :meth:`~invoke` instead.\n",
      "  chain.run(\"Germany\")\n"
     ]
    },
    {
     "data": {
      "text/plain": [
       "'\\n\\nThe capital of Germany is Berlin.'"
      ]
     },
     "execution_count": 8,
     "metadata": {},
     "output_type": "execute_result"
    }
   ],
   "source": [
    "chain = LLMChain(llm=llmo, prompt=prompt_template)\n",
    "chain.run(\"Germany\")"
   ]
  },
  {
   "cell_type": "markdown",
   "id": "5a3a9664",
   "metadata": {},
   "source": [
    "Combining Multiple Chains Using simple Sequential Chain"
   ]
  },
  {
   "cell_type": "code",
   "execution_count": 9,
   "id": "b82d8aff",
   "metadata": {},
   "outputs": [],
   "source": [
    "capital_prompt = PromptTemplate(input_variables=['country'],\n",
    "                                template=\"Please tell me the capital of {country}\")\n",
    "capital_chain = LLMChain(llm=llmo, prompt=capital_prompt)\n",
    "famous_template = PromptTemplate(input_variables=['capital'],\n",
    "                                 template='suggest palces to visit in {capital}')\n",
    "famous_chain = LLMChain(llm=llmo, prompt=famous_template)"
   ]
  },
  {
   "cell_type": "code",
   "execution_count": 10,
   "id": "ebc83286",
   "metadata": {},
   "outputs": [
    {
     "data": {
      "text/plain": [
       "\" Here are some places to visit in Berlin:\\n\\n1. Brandenburg Gate - one of the most iconic landmarks of Berlin, this neoclassical gate serves as a symbol of the city's reunification.\\n\\n2. The Berlin Wall - a must-see for history buffs, the remnants of the Berlin Wall serve as a reminder of the city's divided past.\\n\\n3. Reichstag Building - the seat of the German parliament, this historic building offers stunning views of the city from its glass dome.\\n\\n4. Museum Island - located on the Spree River, this complex is home to five world-renowned museums, including the Pergamon Museum and the Neues Museum.\\n\\n5. Checkpoint Charlie - another significant historical site, this former border crossing between East and West Berlin now serves as a museum.\\n\\n6. Charlottenburg Palace - the largest palace in Berlin, this baroque-style building is surrounded by beautiful gardens and houses a museum with royal collections.\\n\\n7. Berlin Cathedral - a stunning example of Baroque architecture, this cathedral is the largest church in Berlin and offers panoramic views from its dome.\\n\\n8. Tiergarten Park - located in the heart of the city, this sprawling park is perfect for a leisurely stroll or a picnic on a sunny day.\\n\\n9. East\""
      ]
     },
     "execution_count": 10,
     "metadata": {},
     "output_type": "execute_result"
    }
   ],
   "source": [
    "chain_seq = SimpleSequentialChain(chains=[capital_chain, famous_chain])\n",
    "chain_seq.run(\"Germany\")"
   ]
  },
  {
   "cell_type": "markdown",
   "id": "98f50f32",
   "metadata": {},
   "source": [
    "Sequential Chain"
   ]
  },
  {
   "cell_type": "code",
   "execution_count": 11,
   "id": "0681dbfe",
   "metadata": {},
   "outputs": [],
   "source": [
    "capital_prompt = PromptTemplate(input_variables=['country'],\n",
    "                                template=\"Please tell me the capital of {country}\")\n",
    "capital_chain = LLMChain(llm=llmo, prompt=capital_prompt, output_key='capital')\n",
    "\n",
    "famous_template = PromptTemplate(input_variables=['capital'],\n",
    "                                 template='suggest palces to visit in {capital}')\n",
    "famous_chain = LLMChain(llm=llmo, prompt=famous_template, output_key='places')"
   ]
  },
  {
   "cell_type": "code",
   "execution_count": 12,
   "id": "0f406f48",
   "metadata": {},
   "outputs": [
    {
     "name": "stderr",
     "output_type": "stream",
     "text": [
      "C:\\Users\\wwwro\\AppData\\Local\\Temp\\ipykernel_10268\\929704000.py:4: LangChainDeprecationWarning: The method `Chain.__call__` was deprecated in langchain 0.1.0 and will be removed in 1.0. Use :meth:`~invoke` instead.\n",
      "  chain_seq({\"country\":\"Germany\"})\n"
     ]
    },
    {
     "data": {
      "text/plain": [
       "{'country': 'Germany',\n",
       " 'capital': '\\n\\nThe capital of Germany is Berlin.',\n",
       " 'places': \" Here are some places you may want to visit while in Berlin:\\n\\n1. Brandenburg Gate - This iconic landmark is a must-see in Berlin and symbolizes the unity of the city.\\n\\n2. Reichstag Building - The seat of the German Parliament, this historic building offers guided tours and a stunning view from its dome.\\n\\n3. Berlin Wall - A visit to the Berlin Wall is a must for any history buff. You can see the remaining sections of the wall and learn about its significance.\\n\\n4. Museum Island - This UNESCO World Heritage Site is home to five of Berlin's most famous museums, including the Pergamon Museum and the Neues Museum.\\n\\n5. Checkpoint Charlie - This former border crossing between East and West Berlin is now a popular tourist spot where you can learn about the Cold War.\\n\\n6. Tiergarten Park - This large park in the heart of the city is perfect for a leisurely stroll or a picnic. It also houses various monuments and memorials.\\n\\n7. East Side Gallery - This open-air gallery displays over 100 paintings on the remaining sections of the Berlin Wall.\\n\\n8. Charlottenburg Palace - This stunning palace was the former summer residence of the Prussian royal family and now serves as a museum.\\n\\n9. Memorial to the Murder\"}"
      ]
     },
     "execution_count": 12,
     "metadata": {},
     "output_type": "execute_result"
    }
   ],
   "source": [
    "chain_seq = SequentialChain(chains=[capital_chain, famous_chain], \n",
    "                            input_variables=['country'],\n",
    "                            output_variables=['capital', 'places'])\n",
    "chain_seq({\"country\":\"Germany\"})"
   ]
  },
  {
   "cell_type": "markdown",
   "id": "79a78644",
   "metadata": {},
   "source": [
    "Chatmodels with ChatOpenAI"
   ]
  },
  {
   "cell_type": "code",
   "execution_count": 13,
   "id": "b33b1952",
   "metadata": {},
   "outputs": [],
   "source": [
    "chatllm = ChatOpenAI(model='gpt-3.5-turbo' ,temperature=0.7)"
   ]
  },
  {
   "cell_type": "code",
   "execution_count": 14,
   "id": "4ceaa068",
   "metadata": {},
   "outputs": [
    {
     "name": "stderr",
     "output_type": "stream",
     "text": [
      "C:\\Users\\wwwro\\AppData\\Local\\Temp\\ipykernel_10268\\3001775620.py:1: LangChainDeprecationWarning: The method `BaseChatModel.__call__` was deprecated in langchain-core 0.1.7 and will be removed in 1.0. Use :meth:`~invoke` instead.\n",
      "  chatllm([\n"
     ]
    },
    {
     "data": {
      "text/plain": [
       "AIMessage(content='Langchain is a decentralized platform that enables users to create, manage, and trade personal data in a secure and transparent manner using blockchain technology. It aims to give individuals control over their own data and provide a secure way to share it with others. Langchain utilizes smart contracts and encryption techniques to ensure the privacy and integrity of the data stored on the platform. Users can also earn rewards by sharing their data with trusted parties through the Langchain ecosystem.', additional_kwargs={'refusal': None}, response_metadata={'token_usage': {'completion_tokens': 89, 'prompt_tokens': 23, 'total_tokens': 112, 'completion_tokens_details': {'accepted_prediction_tokens': 0, 'audio_tokens': 0, 'reasoning_tokens': 0, 'rejected_prediction_tokens': 0}, 'prompt_tokens_details': {'audio_tokens': 0, 'cached_tokens': 0}}, 'model_name': 'gpt-3.5-turbo-0125', 'system_fingerprint': None, 'id': 'chatcmpl-CIohxIwKBW48vbE3H3ZGQlsnLEHpM', 'service_tier': 'default', 'finish_reason': 'stop', 'logprobs': None}, id='run--6c1d36f1-06a7-4635-8e74-ee36971bbee7-0', usage_metadata={'input_tokens': 23, 'output_tokens': 89, 'total_tokens': 112, 'input_token_details': {'audio': 0, 'cache_read': 0}, 'output_token_details': {'audio': 0, 'reasoning': 0}})"
      ]
     },
     "execution_count": 14,
     "metadata": {},
     "output_type": "execute_result"
    }
   ],
   "source": [
    "chatllm([\n",
    "    SystemMessage(content='You are a langchain expert'),\n",
    "    HumanMessage(content='Return only langchain retaled')\n",
    "])"
   ]
  },
  {
   "cell_type": "markdown",
   "id": "69fbafa5",
   "metadata": {},
   "source": [
    "Prompt Template + LLM +  Output Parsers"
   ]
  },
  {
   "cell_type": "code",
   "execution_count": 15,
   "id": "ee3f24c4",
   "metadata": {},
   "outputs": [],
   "source": [
    "class Commasepratedoutput(BaseOutputParser):\n",
    "    def parse(self, text: str):\n",
    "        return text.strip().split(\",\")\n",
    "    "
   ]
  },
  {
   "cell_type": "code",
   "execution_count": 16,
   "id": "d8aac03b",
   "metadata": {},
   "outputs": [],
   "source": [
    "template = \"You are a helpfule assistant. When user give input generate 10 words in a comma seprated list\"\n",
    "human_template = \"{text}\"\n",
    "chatprompt = ChatPromptTemplate.from_messages([\n",
    "    (\"system\", template),\n",
    "    (\"human\", human_template)\n",
    "])"
   ]
  },
  {
   "cell_type": "code",
   "execution_count": 17,
   "id": "11922dc5",
   "metadata": {},
   "outputs": [
    {
     "data": {
      "text/plain": [
       "['programming',\n",
       " ' languages',\n",
       " ' code',\n",
       " ' software',\n",
       " ' development',\n",
       " ' computer',\n",
       " ' technology',\n",
       " ' Java',\n",
       " ' Python',\n",
       " ' C++']"
      ]
     },
     "execution_count": 17,
     "metadata": {},
     "output_type": "execute_result"
    }
   ],
   "source": [
    "chain = chatprompt | chatllm | Commasepratedoutput()\n",
    "chain.invoke({\"text\":\"programming languages\"})"
   ]
  },
  {
   "cell_type": "code",
   "execution_count": null,
   "id": "837a7bf8",
   "metadata": {},
   "outputs": [],
   "source": []
  }
 ],
 "metadata": {
  "kernelspec": {
   "display_name": ".venv",
   "language": "python",
   "name": "python3"
  },
  "language_info": {
   "codemirror_mode": {
    "name": "ipython",
    "version": 3
   },
   "file_extension": ".py",
   "mimetype": "text/x-python",
   "name": "python",
   "nbconvert_exporter": "python",
   "pygments_lexer": "ipython3",
   "version": "3.11.9"
  }
 },
 "nbformat": 4,
 "nbformat_minor": 5
}
