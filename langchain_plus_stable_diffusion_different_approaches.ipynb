{
 "cells": [
  {
   "cell_type": "markdown",
   "id": "b8c1380f",
   "metadata": {},
   "source": [
    "### Replicate"
   ]
  },
  {
   "cell_type": "code",
   "execution_count": null,
   "id": "ae629762",
   "metadata": {},
   "outputs": [],
   "source": [
    "from langchain_community.llms import Replicate\n",
    "# Initialize the text-to-image model with Stable Diffusion 3.5 Large\n",
    "text2image = Replicate(\n",
    "    model=\"stability-ai/stable-diffusion-3.5-large\",\n",
    "    model_kwargs={\n",
    "        \"prompt_strength\": 0.85,\n",
    "        \"cfg\": 4.5,\n",
    "        \"steps\": 40,\n",
    "        \"aspect_ratio\": \"1:1\",\n",
    "        \"output_format\": \"webp\",\n",
    "        \"output_quality\": 90\n",
    "    }\n",
    ")\n",
    "# Generate an image\n",
    "image_url = text2image.invoke(\"A detailed technical diagram of an AI agent\")"
   ]
  },
  {
   "cell_type": "markdown",
   "id": "fc121097",
   "metadata": {},
   "source": [
    "* prompt_strength: Controls how closely the image follows the prompt (0.85)\n",
    "* cfg: Controls how strictly the model follows the prompt (4.5)\n",
    "* steps: More steps result in higher-quality images (40)\n",
    "* aspect_ratio: Set to 1:1 for square images\n",
    "* output_format: Using WebP for a better quality-to-size ratio\n",
    "* output_quality: Set to 90 for high-quality output"
   ]
  },
  {
   "cell_type": "code",
   "execution_count": null,
   "id": "f6e87af9",
   "metadata": {},
   "outputs": [],
   "source": []
  },
  {
   "cell_type": "code",
   "execution_count": null,
   "id": "36c14f51",
   "metadata": {},
   "outputs": [],
   "source": []
  },
  {
   "cell_type": "code",
   "execution_count": null,
   "id": "f0dfddf4",
   "metadata": {},
   "outputs": [],
   "source": []
  },
  {
   "cell_type": "code",
   "execution_count": null,
   "id": "69622ee3",
   "metadata": {},
   "outputs": [],
   "source": []
  },
  {
   "cell_type": "code",
   "execution_count": null,
   "id": "ed417d92",
   "metadata": {},
   "outputs": [],
   "source": []
  },
  {
   "cell_type": "code",
   "execution_count": null,
   "id": "e882dc6b",
   "metadata": {},
   "outputs": [],
   "source": []
  },
  {
   "cell_type": "code",
   "execution_count": null,
   "id": "cb464651",
   "metadata": {},
   "outputs": [],
   "source": []
  },
  {
   "cell_type": "code",
   "execution_count": null,
   "id": "aa18a6fd",
   "metadata": {},
   "outputs": [],
   "source": []
  },
  {
   "cell_type": "code",
   "execution_count": null,
   "id": "6771fa43",
   "metadata": {},
   "outputs": [],
   "source": []
  },
  {
   "cell_type": "code",
   "execution_count": null,
   "id": "bb873bba",
   "metadata": {},
   "outputs": [],
   "source": []
  },
  {
   "cell_type": "code",
   "execution_count": null,
   "id": "ce4fd62b",
   "metadata": {},
   "outputs": [],
   "source": []
  },
  {
   "cell_type": "code",
   "execution_count": null,
   "id": "e10e733f",
   "metadata": {},
   "outputs": [],
   "source": []
  },
  {
   "cell_type": "code",
   "execution_count": null,
   "id": "a4341ca2",
   "metadata": {},
   "outputs": [],
   "source": []
  },
  {
   "cell_type": "code",
   "execution_count": null,
   "id": "f603ccd2",
   "metadata": {},
   "outputs": [],
   "source": []
  },
  {
   "cell_type": "code",
   "execution_count": null,
   "id": "664afb5e",
   "metadata": {},
   "outputs": [],
   "source": []
  },
  {
   "cell_type": "code",
   "execution_count": null,
   "id": "f4c62c43",
   "metadata": {},
   "outputs": [],
   "source": []
  },
  {
   "cell_type": "code",
   "execution_count": null,
   "id": "e4bfd87f",
   "metadata": {},
   "outputs": [],
   "source": []
  },
  {
   "cell_type": "code",
   "execution_count": null,
   "id": "a022dfcf",
   "metadata": {},
   "outputs": [],
   "source": []
  },
  {
   "cell_type": "code",
   "execution_count": null,
   "id": "4f015b12",
   "metadata": {},
   "outputs": [],
   "source": []
  },
  {
   "cell_type": "code",
   "execution_count": null,
   "id": "2d0cc773",
   "metadata": {},
   "outputs": [],
   "source": []
  }
 ],
 "metadata": {
  "kernelspec": {
   "display_name": ".venv",
   "language": "python",
   "name": "python3"
  },
  "language_info": {
   "name": "python",
   "version": "3.12.3"
  }
 },
 "nbformat": 4,
 "nbformat_minor": 5
}
